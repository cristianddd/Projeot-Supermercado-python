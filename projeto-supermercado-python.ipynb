{
  "cells": [
    {
      "cell_type": "markdown",
      "metadata": {
        "id": "view-in-github",
        "colab_type": "text"
      },
      "source": [
        "<a href=\"https://colab.research.google.com/github/cristianddd/Projeot-Supermercado-python/blob/main/projeto-supermercado-python.ipynb\" target=\"_parent\"><img src=\"https://colab.research.google.com/assets/colab-badge.svg\" alt=\"Open In Colab\"/></a>"
      ]
    },
    {
      "cell_type": "code",
      "source": [
        "estoque = [\n",
        "    {\"codigo\": 1, \"nome\": \"Espinafre\", \"preco\": 3.50, \"marca\": \"Hortifruti Fresh\", \"tipo\": \"Frutas\", \"quantidade\": 2},\n",
        "    {\"codigo\": 2, \"nome\": \"Cenoura\", \"preco\": 2.00, \"marca\": \"Fazenda Verde\", \"tipo\": \"Frutas\", \"quantidade\": 2},\n",
        "    {\"codigo\": 3, \"nome\": \"Alface\", \"preco\": 2.50, \"marca\": \"Orgânicos do Campo\", \"tipo\": \"Frutas\", \"quantidade\": 2},\n",
        "    {\"codigo\": 4, \"nome\": \"Espinafre\", \"preco\": 4.00, \"marca\": \"Frutas Frescas\", \"tipo\": \"Verduras\", \"quantidade\": 2},\n",
        "    {\"codigo\": 5, \"nome\": \"Cenoura\", \"preco\": 2.50, \"marca\": \"Banana Dourada\", \"tipo\": \"Verduras\", \"quantidade\": 2},\n",
        "    {\"codigo\": 6, \"nome\": \"Alface\", \"preco\": 8.00, \"marca\": \"Morangos Saborosos\", \"tipo\": \"Verduras\", \"quantidade\": 2},\n",
        "    {\"codigo\": 7, \"nome\": \"Abobrinha\", \"preco\": 3.00, \"marca\": \"Plantio Natural\", \"tipo\": \"Legumes\", \"quantidade\": 2},\n",
        "    {\"codigo\": 8, \"nome\": \"Batata\", \"preco\": 2.20, \"marca\": \"Batatas do Sítio\", \"tipo\": \"Legumes\", \"quantidade\": 2},\n",
        "    {\"codigo\": 9, \"nome\": \"Berinjela\", \"preco\": 4.50, \"marca\": \"Berinjelas Orgânicas\", \"tipo\": \"Legumes\", \"quantidade\": 2}\n",
        "]\n",
        "\n",
        "while True:\n",
        "    print(\"\\n*** Controle de Estoque ***\")\n",
        "    print(\"1. Registrar entrada de produto\")\n",
        "    print(\"2. Registrar saída de produto\")\n",
        "    print(\"3. Verificar saldo de produto\")\n",
        "    print(\"4. Sair do programa\")\n",
        "\n",
        "    opcao = input(\"Escolha uma opção: \")\n",
        "\n",
        "    if opcao == \"1\":\n",
        "        codigo = int(input(\"Digite o código do produto: \"))\n",
        "        for produto in estoque:\n",
        "            if produto[\"codigo\"] == codigo:\n",
        "                quantidade = int(input(\"Digite a quantidade de entrada: \"))\n",
        "                produto[\"quantidade\"] = produto.get(\"quantidade\", 0) + quantidade\n",
        "                print(f\"{quantidade} unidades de {produto['nome']} foram adicionadas ao estoque.\")\n",
        "                break\n",
        "        else:\n",
        "            print(\"Código de produto inválido.\")\n",
        "\n",
        "    elif opcao == \"2\":\n",
        "        codigo = int(input(\"Digite o código do produto: \"))\n",
        "        for produto in estoque:\n",
        "            if produto[\"codigo\"] == codigo:\n",
        "                if \"quantidade\" in produto:\n",
        "                    quantidade = int(input(\"Digite a quantidade de saída: \"))\n",
        "                    if quantidade <= produto[\"quantidade\"]:\n",
        "                        produto[\"quantidade\"] -= quantidade\n",
        "                        print(f\"{quantidade} unidades de {produto['nome']} foram retiradas do estoque.\")\n",
        "                    else:\n",
        "                        print(\"Quantidade insuficiente em estoque.\")\n",
        "                else:\n",
        "                    print(\"Produto não tem quantidade registrada.\")\n",
        "                break\n",
        "        else:\n",
        "            print(\"Produto não encontrado no estoque.\")\n",
        "\n",
        "    elif opcao == \"3\":\n",
        "        codigo = int(input(\"Digite o código do produto: \"))\n",
        "        for produto in estoque:\n",
        "            if produto[\"codigo\"] == codigo:\n",
        "                if \"quantidade\" in produto:\n",
        "                    print(f\"Quantidade atual de {produto['nome']}: {produto['quantidade']} unidades.\")\n",
        "                else:\n",
        "                    print(\"Produto não tem quantidade registrada.\")\n",
        "                break\n",
        "        else:\n",
        "            print(\"Produto não encontrado no estoque.\")\n",
        "\n",
        "    elif opcao == \"4\":\n",
        "        print(\"Programa encerrado.\")\n",
        "        break\n",
        "\n",
        "    else:\n",
        "        print(\"Opção inválida. Por favor, escolha uma opção válida.\")\n"
      ],
      "metadata": {
        "colab": {
          "base_uri": "https://localhost:8080/"
        },
        "id": "EucX6AgO36Qh",
        "outputId": "237e4317-e627-49fc-d3f0-c4a0b7e9e03b"
      },
      "execution_count": 8,
      "outputs": [
        {
          "output_type": "stream",
          "name": "stdout",
          "text": [
            "\n",
            "*** Controle de Estoque ***\n",
            "1. Registrar entrada de produto\n",
            "2. Registrar saída de produto\n",
            "3. Verificar saldo de produto\n",
            "4. Sair do programa\n",
            "Escolha uma opção: 3\n",
            "Digite o código do produto: 2\n",
            "Quantidade atual de Cenoura: 2 unidades.\n",
            "\n",
            "*** Controle de Estoque ***\n",
            "1. Registrar entrada de produto\n",
            "2. Registrar saída de produto\n",
            "3. Verificar saldo de produto\n",
            "4. Sair do programa\n",
            "Escolha uma opção: 2\n",
            "Digite o código do produto: 2\n",
            "Digite a quantidade de saída: 2\n",
            "2 unidades de Cenoura foram retiradas do estoque.\n",
            "\n",
            "*** Controle de Estoque ***\n",
            "1. Registrar entrada de produto\n",
            "2. Registrar saída de produto\n",
            "3. Verificar saldo de produto\n",
            "4. Sair do programa\n",
            "Escolha uma opção: 3\n",
            "Digite o código do produto: 2\n",
            "Quantidade atual de Cenoura: 0 unidades.\n",
            "\n",
            "*** Controle de Estoque ***\n",
            "1. Registrar entrada de produto\n",
            "2. Registrar saída de produto\n",
            "3. Verificar saldo de produto\n",
            "4. Sair do programa\n",
            "Escolha uma opção: 4\n",
            "Programa encerrado.\n"
          ]
        }
      ]
    }
  ],
  "metadata": {
    "colab": {
      "name": "Olá, este é o Colaboratory",
      "provenance": [],
      "include_colab_link": true
    },
    "kernelspec": {
      "display_name": "Python 3",
      "name": "python3"
    }
  },
  "nbformat": 4,
  "nbformat_minor": 0
}